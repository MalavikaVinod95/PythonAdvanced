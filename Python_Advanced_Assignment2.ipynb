{
 "cells": [
  {
   "cell_type": "markdown",
   "id": "e0c169a1",
   "metadata": {},
   "source": [
    "Q1. What is the relationship between classes and modules?"
   ]
  },
  {
   "cell_type": "markdown",
   "id": "961695ea",
   "metadata": {},
   "source": [
    "#ans: Modules:Modules contains python classes or functions but if we require them then we have to import it. For eg: math module. We import it if we have to check any math operations like sqaure root of a number.\n",
    "\n",
    "Class : Classes are blueprints that will allow us to create instance with attributes. Classes are part of Object Oriented Programming concept and supports inheritance, which modules does not support\n",
    "    "
   ]
  },
  {
   "cell_type": "markdown",
   "id": "650a4d42",
   "metadata": {},
   "source": [
    "Q2. How do you make instances and classes?"
   ]
  },
  {
   "cell_type": "markdown",
   "id": "0d809604",
   "metadata": {},
   "source": [
    "#ans: To make instance we will have to call the class with the classname and pass the necessary arguments that the constructor will accept.\n",
    "\n",
    "eg: sample_instance = ClassName(\"argument\")\n",
    "\n",
    "\n",
    "To make a class we'll have to create a class with classname preceding by the term class and followed by a colon.\n",
    "\n",
    "eg: class ClassName:"
   ]
  },
  {
   "cell_type": "markdown",
   "id": "94462e8d",
   "metadata": {},
   "source": [
    "Q3. Where and how should be class attributes created?\n"
   ]
  },
  {
   "cell_type": "markdown",
   "id": "d5e7f87b",
   "metadata": {},
   "source": [
    "#ans: Class attributes are directly defined inside a class and will be shared by all instances. Also, class attributes can be accessed by using both classname and object."
   ]
  },
  {
   "cell_type": "code",
   "execution_count": 19,
   "id": "ba75cae2",
   "metadata": {},
   "outputs": [],
   "source": [
    "#eg: \n",
    "class CountingAttribute:\n",
    "    # here count is a class attribute\n",
    "    count =0\n",
    "    \n",
    "    def __init__(self):\n",
    "        CountingAttribute.count+=1"
   ]
  },
  {
   "cell_type": "code",
   "execution_count": 20,
   "id": "452d492c",
   "metadata": {},
   "outputs": [
    {
     "data": {
      "text/plain": [
       "1"
      ]
     },
     "execution_count": 20,
     "metadata": {},
     "output_type": "execute_result"
    }
   ],
   "source": [
    "ca = CountingAttribute()\n",
    "CountingAttribute.count"
   ]
  },
  {
   "cell_type": "code",
   "execution_count": 21,
   "id": "ff01eb0a",
   "metadata": {},
   "outputs": [
    {
     "data": {
      "text/plain": [
       "2"
      ]
     },
     "execution_count": 21,
     "metadata": {},
     "output_type": "execute_result"
    }
   ],
   "source": [
    "ca1 = CountingAttribute()\n",
    "CountingAttribute.count"
   ]
  },
  {
   "cell_type": "markdown",
   "id": "3dbb377c",
   "metadata": {},
   "source": [
    "In the above example , for each newly created object , the count will be incremented by 1 "
   ]
  },
  {
   "cell_type": "markdown",
   "id": "c8d2e5c6",
   "metadata": {},
   "source": [
    "Q4. Where and how are instance attributes created?"
   ]
  },
  {
   "cell_type": "markdown",
   "id": "4993e1f2",
   "metadata": {},
   "source": [
    "#ans: Instance attributes are defined inside constructor using self parameter. Unlike class attribute, changing the value of instance attribute will not effect the other objects."
   ]
  },
  {
   "cell_type": "code",
   "execution_count": 22,
   "id": "3b2b3d19",
   "metadata": {},
   "outputs": [],
   "source": [
    "#eg:\n",
    "class InstanceAttributeExample:\n",
    "    def __init__(self,name,rollno):\n",
    "        self.name = name\n",
    "        self.rollno = rollno"
   ]
  },
  {
   "cell_type": "code",
   "execution_count": 23,
   "id": "e014952e",
   "metadata": {},
   "outputs": [],
   "source": [
    "iae = InstanceAttributeExample(\"Malavika\",17)"
   ]
  },
  {
   "cell_type": "code",
   "execution_count": 24,
   "id": "524d35bc",
   "metadata": {},
   "outputs": [
    {
     "data": {
      "text/plain": [
       "'Malavika'"
      ]
     },
     "execution_count": 24,
     "metadata": {},
     "output_type": "execute_result"
    }
   ],
   "source": [
    "#Here iae is an object and name and rollno are the instance attribute . We can access the name and rollno as given \n",
    "iae.name\n"
   ]
  },
  {
   "cell_type": "code",
   "execution_count": 25,
   "id": "3c928f01",
   "metadata": {},
   "outputs": [
    {
     "data": {
      "text/plain": [
       "17"
      ]
     },
     "execution_count": 25,
     "metadata": {},
     "output_type": "execute_result"
    }
   ],
   "source": [
    "iae.rollno"
   ]
  },
  {
   "cell_type": "code",
   "execution_count": 26,
   "id": "fb8300bf",
   "metadata": {},
   "outputs": [],
   "source": [
    "iae1 = InstanceAttributeExample(\"Sona\",32)"
   ]
  },
  {
   "cell_type": "code",
   "execution_count": 27,
   "id": "b2eca23b",
   "metadata": {},
   "outputs": [
    {
     "data": {
      "text/plain": [
       "'Sona'"
      ]
     },
     "execution_count": 27,
     "metadata": {},
     "output_type": "execute_result"
    }
   ],
   "source": [
    "iae1.name"
   ]
  },
  {
   "cell_type": "code",
   "execution_count": 28,
   "id": "0d0905e1",
   "metadata": {},
   "outputs": [
    {
     "data": {
      "text/plain": [
       "32"
      ]
     },
     "execution_count": 28,
     "metadata": {},
     "output_type": "execute_result"
    }
   ],
   "source": [
    "iae1.rollno"
   ]
  },
  {
   "cell_type": "markdown",
   "id": "8ade35de",
   "metadata": {},
   "source": [
    "Q5. What does the term \"self\" in a Python class mean?"
   ]
  },
  {
   "cell_type": "markdown",
   "id": "9de37759",
   "metadata": {},
   "source": [
    "#ans: \"Self\" is used to represent the instance of a class. \"Self\" can be used to access the methods and attributes of a class"
   ]
  },
  {
   "cell_type": "markdown",
   "id": "d082c135",
   "metadata": {},
   "source": [
    "Q6. How does a Python class handle operator overloading?\n"
   ]
  },
  {
   "cell_type": "markdown",
   "id": "32634b67",
   "metadata": {},
   "source": [
    "#ans : In python, binary operator (+) cannot be used to add two objects as it will throw error. Instead, we can define a method for an operator and this process is called operator overloading. "
   ]
  },
  {
   "cell_type": "code",
   "execution_count": 38,
   "id": "063b4371",
   "metadata": {},
   "outputs": [],
   "source": [
    "class AddBill:\n",
    "    def __init__(self,value):\n",
    "        self.value = value\n",
    " #__add__ is the method used to overload '+' operator   \n",
    "    def __add__(self,othervalue):\n",
    "        return self.value+othervalue.value"
   ]
  },
  {
   "cell_type": "code",
   "execution_count": 39,
   "id": "cca3636f",
   "metadata": {},
   "outputs": [
    {
     "name": "stdout",
     "output_type": "stream",
     "text": [
      "15\n"
     ]
    }
   ],
   "source": [
    "ab = AddBill(5)\n",
    "ab1 = AddBill(10)\n",
    "print(ab+ab1)"
   ]
  },
  {
   "cell_type": "markdown",
   "id": "833859de",
   "metadata": {},
   "source": [
    "Q7. When do you consider allowing operator overloading of your classes?"
   ]
  },
  {
   "cell_type": "markdown",
   "id": "ee4015cc",
   "metadata": {},
   "source": [
    "#ans: Operator overloading can be used to increase clarity and to reduce complexity of a code. By using operator overloading it will be easier to understand the code. Also, the code can be reused rather than creating different methods for minor changes"
   ]
  },
  {
   "cell_type": "markdown",
   "id": "42e7997d",
   "metadata": {},
   "source": [
    "Q8. What is the most popular form of operator overloading?"
   ]
  },
  {
   "cell_type": "markdown",
   "id": "9707a047",
   "metadata": {},
   "source": [
    "#ans : The most popular form of operator overloading is addition operator. + operator can be used to add numbers as well as to combine strings"
   ]
  },
  {
   "cell_type": "markdown",
   "id": "caeffcfa",
   "metadata": {},
   "source": [
    "Q9. What are the two most important concepts to grasp in order to comprehend Python OOP code?"
   ]
  },
  {
   "cell_type": "markdown",
   "id": "3ab623c0",
   "metadata": {},
   "source": [
    "#ans : Inheritance and polymorphism are the the two most important concepts as it will help in creating code that can be easily maintained.Inheritance can be used to eliminate repititive code and polymorphism will help in the flexibility of the code."
   ]
  },
  {
   "cell_type": "code",
   "execution_count": null,
   "id": "590714bb",
   "metadata": {},
   "outputs": [],
   "source": []
  }
 ],
 "metadata": {
  "kernelspec": {
   "display_name": "Python 3 (ipykernel)",
   "language": "python",
   "name": "python3"
  },
  "language_info": {
   "codemirror_mode": {
    "name": "ipython",
    "version": 3
   },
   "file_extension": ".py",
   "mimetype": "text/x-python",
   "name": "python",
   "nbconvert_exporter": "python",
   "pygments_lexer": "ipython3",
   "version": "3.9.13"
  }
 },
 "nbformat": 4,
 "nbformat_minor": 5
}
