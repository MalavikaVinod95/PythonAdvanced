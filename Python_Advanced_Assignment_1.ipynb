{
 "cells": [
  {
   "cell_type": "markdown",
   "id": "e06fe26a",
   "metadata": {},
   "source": [
    "Q1. What is the purpose of Python's OOP?\n"
   ]
  },
  {
   "cell_type": "markdown",
   "id": "1e509ed7",
   "metadata": {},
   "source": [
    "#ans: Oops concepts are used to bring a structure to the programme and also it will help in the reusability of the code.It uses the concept of classes and objects to bind the data."
   ]
  },
  {
   "cell_type": "markdown",
   "id": "6e91aabf",
   "metadata": {},
   "source": [
    "Q2. Where does an inheritance search look for an attribute?\n"
   ]
  },
  {
   "cell_type": "markdown",
   "id": "31efa651",
   "metadata": {},
   "source": [
    "#ans : Firstly, inheritance will search for an attribute in the instance object , then it will search in the class from where the instance was created from. The search will continue even to the superclasses till the attribute is found."
   ]
  },
  {
   "cell_type": "markdown",
   "id": "e5c51bac",
   "metadata": {},
   "source": [
    "Q3. How do you distinguish between a class object and an instance object?"
   ]
  },
  {
   "cell_type": "markdown",
   "id": "a22bdc83",
   "metadata": {},
   "source": [
    "#ans :\n",
    "\n",
    "Class object: A class can have multiple objects. If the object is updated , it effects the entire class.\n",
    "\n",
    "Instance Object : It takes unique value for each instance and  changes made to a particular instance cannot effect the entire class"
   ]
  },
  {
   "cell_type": "markdown",
   "id": "831bafb4",
   "metadata": {},
   "source": [
    "Q4. What makes the first argument in a class’s method function special?\n"
   ]
  },
  {
   "cell_type": "markdown",
   "id": "c620235e",
   "metadata": {},
   "source": [
    "#ans : \"Self\" is the first argument used and it is special because it can be used to access the methods and attributes of a class"
   ]
  },
  {
   "cell_type": "markdown",
   "id": "963862fe",
   "metadata": {},
   "source": [
    "Q5. What is the purpose of the __init__ method?"
   ]
  },
  {
   "cell_type": "markdown",
   "id": "b4943cb3",
   "metadata": {},
   "source": [
    "#ans: __init__ is a constructor which is used to initialize the object's state. That is, when an object for the class will be created , it will be passed as an argument inisde this constructor/init method to initialize the object."
   ]
  },
  {
   "cell_type": "markdown",
   "id": "d67ede7e",
   "metadata": {},
   "source": [
    "Q6. What is the process for creating a class instance?\n",
    "\n"
   ]
  },
  {
   "cell_type": "markdown",
   "id": "248e23ce",
   "metadata": {},
   "source": [
    "#ans: To create instances of a class we'll have to call the class using class name and pass in any arguments that __init__ method accepts."
   ]
  },
  {
   "cell_type": "code",
   "execution_count": 9,
   "id": "18c83e7a",
   "metadata": {},
   "outputs": [],
   "source": [
    "#eg: \n",
    "# We are crearting a class Sample\n",
    "class Sample:  \n",
    "    def __init__(self, name):\n",
    "        self.name= name\n",
    "    \n",
    "    def displayname(self):\n",
    "        print(\"Name is:\",self.name)"
   ]
  },
  {
   "cell_type": "code",
   "execution_count": 10,
   "id": "7014dbf2",
   "metadata": {},
   "outputs": [
    {
     "name": "stdout",
     "output_type": "stream",
     "text": [
      "Name is: Malavika\n"
     ]
    }
   ],
   "source": [
    "#Here n is the instance of Sample class\n",
    "n = Sample(\"Malavika\")\n",
    "n.displayname()"
   ]
  },
  {
   "cell_type": "markdown",
   "id": "2d26d799",
   "metadata": {},
   "source": [
    "Q7. What is the process for creating a class?\n"
   ]
  },
  {
   "cell_type": "markdown",
   "id": "d2bf8d47",
   "metadata": {},
   "source": [
    "#ans: To create a class we'll have to declare the class name preceded by the term \"class\" and followed by a colon"
   ]
  },
  {
   "cell_type": "code",
   "execution_count": 12,
   "id": "0816cd44",
   "metadata": {},
   "outputs": [],
   "source": [
    "#eg:\n",
    "class ClassName:\n",
    "    pass"
   ]
  },
  {
   "cell_type": "markdown",
   "id": "db184af2",
   "metadata": {},
   "source": [
    "Q8. How would you define the superclasses of a class?"
   ]
  },
  {
   "cell_type": "markdown",
   "id": "4de24f31",
   "metadata": {},
   "source": [
    "#ans : A superclass is a class from which many subclasses can be created."
   ]
  },
  {
   "cell_type": "code",
   "execution_count": 3,
   "id": "362f1438",
   "metadata": {},
   "outputs": [],
   "source": [
    "#eg:\n",
    "class Student:\n",
    "    def __init__(self,name,age):\n",
    "        self.name= name\n",
    "        self.age = age\n",
    "        \n",
    "    def displayinfo(self):\n",
    "        print(\"Student class is called which is a superclass\")\n",
    "# Here Subject is the child class of Student class\n",
    "class Subject(Student):\n",
    "    def __init__(self,subject1,subject2):\n",
    "        self.subject1=subject1\n",
    "        self.subject2=subject2\n",
    "        \n",
    "    def displaysubject(self):\n",
    "        print(\"Subject calss is called which is a subclass\")\n",
    "        \n",
    "# Here standard is the child class of Student class\n",
    "class Standard(Student):\n",
    "    def __init__(self,std):\n",
    "        self.std=std\n",
    "        \n",
    "    def displaystd(self):\n",
    "        print(\"Standard class is called which is a subclass\")"
   ]
  },
  {
   "cell_type": "code",
   "execution_count": 4,
   "id": "283f2321",
   "metadata": {},
   "outputs": [
    {
     "name": "stdout",
     "output_type": "stream",
     "text": [
      "Student class is called which is a superclass\n"
     ]
    }
   ],
   "source": [
    "#first instance is for the parent class\n",
    "stu = Student(\"Ankita\",18)\n",
    "stu.displayinfo()\n",
    "\n"
   ]
  },
  {
   "cell_type": "code",
   "execution_count": 5,
   "id": "fdad8129",
   "metadata": {},
   "outputs": [
    {
     "name": "stdout",
     "output_type": "stream",
     "text": [
      "Student class is called which is a superclass\n",
      "Subject calss is called which is a subclass\n"
     ]
    }
   ],
   "source": [
    "#Instance is created for the child class \"Subject\". Here since Student is the superclass of Subject class, we can call the functions in Student by creating an object for Subject class\n",
    "sub=Subject(\"Maths\",\"Science\")\n",
    "#Calling function of superclass\n",
    "sub.displayinfo()\n",
    "sub.displaysubject()\n"
   ]
  },
  {
   "cell_type": "code",
   "execution_count": 6,
   "id": "1580f376",
   "metadata": {},
   "outputs": [
    {
     "name": "stdout",
     "output_type": "stream",
     "text": [
      "Student class is called which is a superclass\n",
      "Standard class is called which is a subclass\n"
     ]
    }
   ],
   "source": [
    "#Instance created for child class \"Standard\"\n",
    "st = Standard(\"6th\")\n",
    "st.displayinfo()\n",
    "st.displaystd()"
   ]
  },
  {
   "cell_type": "code",
   "execution_count": null,
   "id": "9796930e",
   "metadata": {},
   "outputs": [],
   "source": []
  }
 ],
 "metadata": {
  "kernelspec": {
   "display_name": "Python 3 (ipykernel)",
   "language": "python",
   "name": "python3"
  },
  "language_info": {
   "codemirror_mode": {
    "name": "ipython",
    "version": 3
   },
   "file_extension": ".py",
   "mimetype": "text/x-python",
   "name": "python",
   "nbconvert_exporter": "python",
   "pygments_lexer": "ipython3",
   "version": "3.9.13"
  }
 },
 "nbformat": 4,
 "nbformat_minor": 5
}
